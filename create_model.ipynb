{
 "cells": [
  {
   "cell_type": "code",
   "execution_count": 23,
   "metadata": {},
   "outputs": [],
   "source": [
    "from keras.models import Sequential\n",
    "from keras.layers import Conv2D, MaxPooling2D, Flatten, Dense\n",
    "from keras.losses import categorical_crossentropy\n",
    "from keras.optimizers import Adam\n",
    "from keras.preprocessing import image\n",
    "import matplotlib.pyplot as plt"
   ]
  },
  {
   "cell_type": "code",
   "execution_count": 7,
   "metadata": {},
   "outputs": [],
   "source": [
    "batch_size = 12\n",
    "num_epochs = 50"
   ]
  },
  {
   "cell_type": "code",
   "execution_count": 19,
   "metadata": {},
   "outputs": [],
   "source": [
    "cnn = Sequential()\n",
    "\n",
    "cnn.add(Conv2D(filters=32, kernel_size=(3,3), activation='relu', input_shape=(200,200,1)))\n",
    "cnn.add(MaxPooling2D(pool_size=(2,2), strides=2))\n",
    "\n",
    "cnn.add(Conv2D(filters=32, kernel_size=(3,3), activation='relu', padding='same'))\n",
    "cnn.add(MaxPooling2D(pool_size=(2,2), strides=2))\n",
    "\n",
    "cnn.add(Conv2D(filters=32, kernel_size=(3,3), activation='relu', padding='valid'))\n",
    "cnn.add(MaxPooling2D(pool_size=(2,2), strides=2))\n",
    "\n",
    "cnn.add(Flatten())\n",
    "\n",
    "cnn.add(Dense(64, activation='relu'))\n",
    "cnn.add(Dense(128, activation='relu'))\n",
    "\n",
    "cnn.add(Dense(10, activation='softmax'))\n",
    "\n",
    "cnn.compile(loss=categorical_crossentropy, optimizer=Adam(), metrics=['accuracy'])"
   ]
  },
  {
   "cell_type": "code",
   "execution_count": 20,
   "metadata": {},
   "outputs": [
    {
     "name": "stdout",
     "output_type": "stream",
     "text": [
      "Model: \"sequential_2\"\n",
      "_________________________________________________________________\n",
      "Layer (type)                 Output Shape              Param #   \n",
      "=================================================================\n",
      "conv2d_6 (Conv2D)            (None, 198, 198, 32)      320       \n",
      "_________________________________________________________________\n",
      "max_pooling2d_6 (MaxPooling2 (None, 99, 99, 32)        0         \n",
      "_________________________________________________________________\n",
      "conv2d_7 (Conv2D)            (None, 99, 99, 32)        9248      \n",
      "_________________________________________________________________\n",
      "max_pooling2d_7 (MaxPooling2 (None, 49, 49, 32)        0         \n",
      "_________________________________________________________________\n",
      "conv2d_8 (Conv2D)            (None, 47, 47, 32)        9248      \n",
      "_________________________________________________________________\n",
      "max_pooling2d_8 (MaxPooling2 (None, 23, 23, 32)        0         \n",
      "_________________________________________________________________\n",
      "flatten_2 (Flatten)          (None, 16928)             0         \n",
      "_________________________________________________________________\n",
      "dense_6 (Dense)              (None, 64)                1083456   \n",
      "_________________________________________________________________\n",
      "dense_7 (Dense)              (None, 128)               8320      \n",
      "_________________________________________________________________\n",
      "dense_8 (Dense)              (None, 10)                1290      \n",
      "=================================================================\n",
      "Total params: 1,111,882\n",
      "Trainable params: 1,111,882\n",
      "Non-trainable params: 0\n",
      "_________________________________________________________________\n"
     ]
    }
   ],
   "source": [
    "cnn.summary()"
   ]
  },
  {
   "cell_type": "code",
   "execution_count": 9,
   "metadata": {},
   "outputs": [],
   "source": [
    "train_datagen = image.ImageDataGenerator(\n",
    "    rescale = 1./255,\n",
    "    shear_range = 0.2,\n",
    "    zoom_range = 0.2,\n",
    "    horizontal_flip = True)\n",
    "\n",
    "test_datagen = image.ImageDataGenerator(rescale=1./255)"
   ]
  },
  {
   "cell_type": "code",
   "execution_count": 12,
   "metadata": {},
   "outputs": [
    {
     "name": "stdout",
     "output_type": "stream",
     "text": [
      "Found 2000 images belonging to 10 classes.\n",
      "Found 500 images belonging to 10 classes.\n"
     ]
    }
   ],
   "source": [
    "train_generator = train_datagen.flow_from_directory(\n",
    "    'data/train',\n",
    "    target_size=(img_height,img_width),\n",
    "    color_mode='grayscale',\n",
    "    class_mode='categorical',\n",
    "    batch_size=batch_size)\n",
    "\n",
    "validation_generator = test_datagen.flow_from_directory(\n",
    "    'data/test',\n",
    "    target_size=(img_height,img_width),\n",
    "    color_mode='grayscale',\n",
    "    class_mode='categorical',\n",
    "    batch_size=batch_size)"
   ]
  },
  {
   "cell_type": "code",
   "execution_count": 21,
   "metadata": {},
   "outputs": [
    {
     "name": "stdout",
     "output_type": "stream",
     "text": [
      "Epoch 1/50\n",
      "8/8 [==============================] - 3s 389ms/step - loss: 2.3023 - accuracy: 0.1042 - val_loss: 2.3026 - val_accuracy: 0.0417\n",
      "Epoch 2/50\n",
      "8/8 [==============================] - 3s 328ms/step - loss: 2.3032 - accuracy: 0.1522 - val_loss: 2.3043 - val_accuracy: 0.0833\n",
      "Epoch 3/50\n",
      "8/8 [==============================] - 3s 335ms/step - loss: 2.3066 - accuracy: 0.0833 - val_loss: 2.3098 - val_accuracy: 0.0833\n",
      "Epoch 4/50\n",
      "8/8 [==============================] - 3s 339ms/step - loss: 2.3001 - accuracy: 0.1042 - val_loss: 2.2696 - val_accuracy: 0.2083\n",
      "Epoch 5/50\n",
      "8/8 [==============================] - 3s 322ms/step - loss: 2.2935 - accuracy: 0.1042 - val_loss: 2.2469 - val_accuracy: 0.1667\n",
      "Epoch 6/50\n",
      "8/8 [==============================] - 3s 331ms/step - loss: 2.2697 - accuracy: 0.1354 - val_loss: 2.1979 - val_accuracy: 0.3750\n",
      "Epoch 7/50\n",
      "8/8 [==============================] - 3s 339ms/step - loss: 2.1643 - accuracy: 0.3021 - val_loss: 2.2099 - val_accuracy: 0.2500\n",
      "Epoch 8/50\n",
      "8/8 [==============================] - 3s 322ms/step - loss: 2.0500 - accuracy: 0.2604 - val_loss: 2.1813 - val_accuracy: 0.2083\n",
      "Epoch 9/50\n",
      "8/8 [==============================] - 3s 321ms/step - loss: 2.0681 - accuracy: 0.2083 - val_loss: 1.9616 - val_accuracy: 0.2500\n",
      "Epoch 10/50\n",
      "8/8 [==============================] - 3s 322ms/step - loss: 1.8648 - accuracy: 0.3646 - val_loss: 1.8093 - val_accuracy: 0.3750\n",
      "Epoch 11/50\n",
      "8/8 [==============================] - 3s 323ms/step - loss: 1.8041 - accuracy: 0.3229 - val_loss: 1.6680 - val_accuracy: 0.5000\n",
      "Epoch 12/50\n",
      "8/8 [==============================] - 3s 315ms/step - loss: 1.6162 - accuracy: 0.4688 - val_loss: 2.1191 - val_accuracy: 0.3750\n",
      "Epoch 13/50\n",
      "8/8 [==============================] - 3s 340ms/step - loss: 1.4565 - accuracy: 0.5000 - val_loss: 1.5598 - val_accuracy: 0.4583\n",
      "Epoch 14/50\n",
      "8/8 [==============================] - 5s 642ms/step - loss: 1.6349 - accuracy: 0.4583 - val_loss: 1.5212 - val_accuracy: 0.4583\n",
      "Epoch 15/50\n",
      "8/8 [==============================] - 3s 417ms/step - loss: 1.4922 - accuracy: 0.4792 - val_loss: 1.2743 - val_accuracy: 0.5833\n",
      "Epoch 16/50\n",
      "8/8 [==============================] - 3s 423ms/step - loss: 1.4864 - accuracy: 0.5208 - val_loss: 1.6724 - val_accuracy: 0.4583\n",
      "Epoch 17/50\n",
      "8/8 [==============================] - 3s 404ms/step - loss: 1.4150 - accuracy: 0.5208 - val_loss: 1.2704 - val_accuracy: 0.5833\n",
      "Epoch 18/50\n",
      "8/8 [==============================] - 3s 390ms/step - loss: 1.3313 - accuracy: 0.5833 - val_loss: 1.5092 - val_accuracy: 0.4583\n",
      "Epoch 19/50\n",
      "8/8 [==============================] - 3s 388ms/step - loss: 1.2607 - accuracy: 0.5729 - val_loss: 1.6489 - val_accuracy: 0.4583\n",
      "Epoch 20/50\n",
      "8/8 [==============================] - 3s 397ms/step - loss: 1.3453 - accuracy: 0.5104 - val_loss: 1.1803 - val_accuracy: 0.6250\n",
      "Epoch 21/50\n",
      "8/8 [==============================] - 3s 391ms/step - loss: 1.2479 - accuracy: 0.5833 - val_loss: 1.4262 - val_accuracy: 0.5417\n",
      "Epoch 22/50\n",
      "8/8 [==============================] - 3s 387ms/step - loss: 1.2162 - accuracy: 0.6042 - val_loss: 1.4221 - val_accuracy: 0.5000\n",
      "Epoch 23/50\n",
      "8/8 [==============================] - 3s 390ms/step - loss: 1.0484 - accuracy: 0.6458 - val_loss: 1.5376 - val_accuracy: 0.4167\n",
      "Epoch 24/50\n",
      "8/8 [==============================] - 3s 383ms/step - loss: 1.1599 - accuracy: 0.5417 - val_loss: 1.1846 - val_accuracy: 0.7083\n",
      "Epoch 25/50\n",
      "8/8 [==============================] - 3s 384ms/step - loss: 0.9678 - accuracy: 0.7083 - val_loss: 1.2600 - val_accuracy: 0.6250\n",
      "Epoch 26/50\n",
      "8/8 [==============================] - 3s 403ms/step - loss: 0.8814 - accuracy: 0.6979 - val_loss: 0.8187 - val_accuracy: 0.6250\n",
      "Epoch 27/50\n",
      "8/8 [==============================] - 3s 389ms/step - loss: 0.8934 - accuracy: 0.6875 - val_loss: 0.9163 - val_accuracy: 0.6667\n",
      "Epoch 28/50\n",
      "8/8 [==============================] - 3s 386ms/step - loss: 0.8372 - accuracy: 0.6979 - val_loss: 1.4972 - val_accuracy: 0.5000\n",
      "Epoch 29/50\n",
      "8/8 [==============================] - 3s 397ms/step - loss: 0.8088 - accuracy: 0.7604 - val_loss: 0.7962 - val_accuracy: 0.7500\n",
      "Epoch 30/50\n",
      "8/8 [==============================] - 3s 387ms/step - loss: 0.9047 - accuracy: 0.7188 - val_loss: 0.7273 - val_accuracy: 0.7917\n",
      "Epoch 31/50\n",
      "8/8 [==============================] - 3s 381ms/step - loss: 0.7277 - accuracy: 0.7500 - val_loss: 1.2208 - val_accuracy: 0.5833\n",
      "Epoch 32/50\n",
      "8/8 [==============================] - 3s 390ms/step - loss: 1.0425 - accuracy: 0.6771 - val_loss: 1.1587 - val_accuracy: 0.6250\n",
      "Epoch 33/50\n",
      "8/8 [==============================] - 3s 387ms/step - loss: 0.8104 - accuracy: 0.7396 - val_loss: 0.8050 - val_accuracy: 0.6250\n",
      "Epoch 34/50\n",
      "8/8 [==============================] - 3s 368ms/step - loss: 0.7483 - accuracy: 0.7717 - val_loss: 1.0675 - val_accuracy: 0.5417\n",
      "Epoch 35/50\n",
      "8/8 [==============================] - 3s 381ms/step - loss: 0.6981 - accuracy: 0.7708 - val_loss: 1.0704 - val_accuracy: 0.5833\n",
      "Epoch 36/50\n",
      "8/8 [==============================] - 3s 387ms/step - loss: 0.7097 - accuracy: 0.7604 - val_loss: 1.0414 - val_accuracy: 0.5833\n",
      "Epoch 37/50\n",
      "8/8 [==============================] - 3s 389ms/step - loss: 0.6855 - accuracy: 0.7500 - val_loss: 1.6119 - val_accuracy: 0.5000\n",
      "Epoch 38/50\n",
      "8/8 [==============================] - 3s 398ms/step - loss: 0.6478 - accuracy: 0.7500 - val_loss: 0.8302 - val_accuracy: 0.7083\n",
      "Epoch 39/50\n",
      "8/8 [==============================] - 3s 383ms/step - loss: 0.7069 - accuracy: 0.7396 - val_loss: 1.1787 - val_accuracy: 0.5833\n",
      "Epoch 40/50\n",
      "8/8 [==============================] - 3s 400ms/step - loss: 0.6072 - accuracy: 0.8229 - val_loss: 0.6747 - val_accuracy: 0.7917\n",
      "Epoch 41/50\n",
      "8/8 [==============================] - 3s 383ms/step - loss: 0.6714 - accuracy: 0.6979 - val_loss: 0.8147 - val_accuracy: 0.6250\n",
      "Epoch 42/50\n",
      "8/8 [==============================] - 3s 386ms/step - loss: 0.6545 - accuracy: 0.7917 - val_loss: 0.5183 - val_accuracy: 0.8333\n",
      "Epoch 43/50\n",
      "8/8 [==============================] - 3s 391ms/step - loss: 0.5969 - accuracy: 0.8021 - val_loss: 0.9268 - val_accuracy: 0.6667\n",
      "Epoch 44/50\n",
      "8/8 [==============================] - 3s 409ms/step - loss: 0.5731 - accuracy: 0.8125 - val_loss: 1.1986 - val_accuracy: 0.7917\n",
      "Epoch 45/50\n",
      "8/8 [==============================] - 3s 383ms/step - loss: 0.4661 - accuracy: 0.8021 - val_loss: 0.3276 - val_accuracy: 0.8333\n",
      "Epoch 46/50\n",
      "8/8 [==============================] - 3s 391ms/step - loss: 0.6416 - accuracy: 0.8021 - val_loss: 0.4978 - val_accuracy: 0.8333\n",
      "Epoch 47/50\n",
      "8/8 [==============================] - 3s 368ms/step - loss: 0.6269 - accuracy: 0.7717 - val_loss: 0.7184 - val_accuracy: 0.7917\n",
      "Epoch 48/50\n",
      "8/8 [==============================] - 3s 385ms/step - loss: 0.5486 - accuracy: 0.8333 - val_loss: 0.4771 - val_accuracy: 0.7917\n",
      "Epoch 49/50\n",
      "8/8 [==============================] - 3s 411ms/step - loss: 0.4593 - accuracy: 0.9062 - val_loss: 0.9437 - val_accuracy: 0.6667\n",
      "Epoch 50/50\n",
      "8/8 [==============================] - 3s 386ms/step - loss: 0.3672 - accuracy: 0.9167 - val_loss: 0.9151 - val_accuracy: 0.7083\n"
     ]
    }
   ],
   "source": [
    "hist = cnn.fit(\n",
    "    train_generator,\n",
    "    epochs=num_epochs,\n",
    "    steps_per_epoch=8,\n",
    "    validation_data=validation_generator,\n",
    "    validation_steps=2)"
   ]
  },
  {
   "cell_type": "code",
   "execution_count": 24,
   "metadata": {},
   "outputs": [
    {
     "data": {
      "text/plain": [
       "<matplotlib.legend.Legend at 0x17eb4325e80>"
      ]
     },
     "execution_count": 24,
     "metadata": {},
     "output_type": "execute_result"
    },
    {
     "data": {
      "image/png": "[encoded data removed]",
      "text/plain": [
       "<Figure size 432x288 with 1 Axes>"
      ]
     },
     "metadata": {
      "needs_background": "light"
     },
     "output_type": "display_data"
    }
   ],
   "source": [
    "train_loss = hist.history['loss']\n",
    "val_loss = hist.history['val_loss']\n",
    "epochs = range(1, len(train_loss) + 1)\n",
    "plt.plot(epochs, train_loss, 'y', label='Training loss')\n",
    "plt.plot(epochs, val_loss, 'r', label='Validation loss')\n",
    "plt.title('Training and validation loss')\n",
    "plt.xlabel('Epochs')\n",
    "plt.ylabel('Loss')\n",
    "plt.legend()"
   ]
  }
 ],
 "metadata": {
  "kernelspec": {
   "display_name": "Python 3",
   "language": "python",
   "name": "python3"
  },
  "language_info": {
   "codemirror_mode": {
    "name": "ipython",
    "version": 3
   },
   "file_extension": ".py",
   "mimetype": "text/x-python",
   "name": "python",
   "nbconvert_exporter": "python",
   "pygments_lexer": "ipython3",
   "version": "3.8.3"
  }
 },
 "nbformat": 4,
 "nbformat_minor": 4
}
